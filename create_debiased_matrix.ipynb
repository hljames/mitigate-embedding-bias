{
 "cells": [
  {
   "cell_type": "markdown",
   "metadata": {},
   "source": [
    "Create a \"debiased matrix\" (on the axis of gender) in which the shapes of male and female distributions are the same (excluding appropriately gendered words)"
   ]
  },
  {
   "cell_type": "code",
   "execution_count": 1,
   "metadata": {},
   "outputs": [],
   "source": [
    "from gensim.models import Word2Vec\n",
    "import logging\n",
    "import math\n",
    "import numpy as np\n",
    "logging.basicConfig(format='%(asctime)s : %(levelname)s : %(message)s', level=logging.INFO)\n",
    "import gensim.downloader as api\n",
    "import matplotlib.pyplot as plt\n",
    "import matplotlib.pylab as pl\n",
    "import ot\n",
    "# necessary for 3d plot even if not used\n",
    "from mpl_toolkits.mplot3d import Axes3D  # noqa\n",
    "from matplotlib.collections import PolyCollection\n",
    "import json"
   ]
  },
  {
   "cell_type": "code",
   "execution_count": null,
   "metadata": {
    "scrolled": true
   },
   "outputs": [],
   "source": [
    "wiki_model = Word2Vec.load(\"english-wikipedia-articles-20170820-models/enwiki_2017_08_20_fasttext.model\")\n"
   ]
  },
  {
   "cell_type": "code",
   "execution_count": 3,
   "metadata": {},
   "outputs": [],
   "source": [
    "cvs = np.load('english-wikipedia-articles-20170820-models/enwiki_2017_08_20_fasttext.model.trainables.syn1neg.npy')\n"
   ]
  },
  {
   "cell_type": "code",
   "execution_count": 4,
   "metadata": {},
   "outputs": [],
   "source": [
    "wvs = np.load('english-wikipedia-articles-20170820-models/enwiki_2017_08_20_fasttext.model.wv.vectors.npy')"
   ]
  },
  {
   "cell_type": "code",
   "execution_count": 5,
   "metadata": {},
   "outputs": [],
   "source": [
    "def build_prob_matrix(wvs,cvs,s):\n",
    "    prob_matrix = np.empty([s,s])\n",
    "    for i,v_wo in enumerate(wvs[:s]):\n",
    "      for j,v_wi in enumerate(cvs[:s]):\n",
    "        prob_matrix[i,j] = math.exp((np.dot(v_wo,v_wi)))\n",
    "    return prob_matrix"
   ]
  },
  {
   "cell_type": "markdown",
   "metadata": {},
   "source": [
    "We'll want to compare the debiased word embedding on some of the baseline WEATs, including things like insects vs flowers as well as the gender bias tests. We don't want to create a matrix the size of the corpus right now, so we can check the indicies of these words to get a rough idea of how big it needs to be."
   ]
  },
  {
   "cell_type": "code",
   "execution_count": 6,
   "metadata": {},
   "outputs": [],
   "source": [
    "with open('baseline_tests.json') as test_file:\n",
    "    test_json = json.load(test_file)"
   ]
  },
  {
   "cell_type": "markdown",
   "metadata": {},
   "source": [
    "Investigate the large indices of words in the test file."
   ]
  },
  {
   "cell_type": "code",
   "execution_count": 7,
   "metadata": {},
   "outputs": [
    {
     "name": "stdout",
     "output_type": "stream",
     "text": [
      "max word so far: poetry: 1764\n",
      "Shakespeare not in vocab\n",
      "max word so far: symphony: 2800\n",
      "max word so far: math: 5491\n",
      "max word so far: algebra: 7058\n",
      "max word so far: calculus: 13143\n",
      "max word so far: computation: 14976\n",
      "max word so far: hers: 21000\n",
      "Shakespeare not in vocab\n",
      "Einstein not in vocab\n",
      "NASA not in vocab\n",
      "Amy not in vocab\n",
      "Joan not in vocab\n",
      "Lisa not in vocab\n",
      "Sarah not in vocab\n",
      "Diana not in vocab\n",
      "Kate not in vocab\n",
      "Ann not in vocab\n",
      "Donna not in vocab\n",
      "John not in vocab\n",
      "Paul not in vocab\n",
      "Mike not in vocab\n",
      "Kevin not in vocab\n",
      "Steve not in vocab\n",
      "Greg not in vocab\n",
      "Jeff not in vocab\n",
      "Bill not in vocab\n",
      "max word so far: harpoon: 37904\n",
      "max word so far: slingshot: 45438\n",
      "max word so far: bagpipe: 45747\n",
      "max word so far: stink: 50596\n",
      "max word so far: pollute: 92998\n",
      "bedbug not in vocab\n",
      "blackfly not in vocab\n",
      "horsefly not in vocab\n",
      "gladiola not in vocab\n",
      "max word so far: zinnia: 141733\n"
     ]
    }
   ],
   "source": [
    "max_index = 0\n",
    "for test, word_lists in test_json['tests'].items():\n",
    "    for name, word_list in word_lists.items():\n",
    "        if name in ['X','Y','A','B']:\n",
    "            for w in word_list:\n",
    "                if w in wiki_model.wv.vocab:\n",
    "                    i = wiki_model.wv.vocab[w].index\n",
    "                    if i > max_index:\n",
    "                        print('max word so far: {}: {}'.format(w,i))\n",
    "                        max_index = i\n",
    "                else:\n",
    "                    print('{} not in vocab'.format(w))"
   ]
  },
  {
   "cell_type": "markdown",
   "metadata": {},
   "source": [
    "It looks like we can use max index of around 22000"
   ]
  },
  {
   "cell_type": "code",
   "execution_count": null,
   "metadata": {},
   "outputs": [],
   "source": [
    "# size = 22000\n",
    "# orig_prob_matrix = build_prob_matrix(wvs,cvs,size)\n"
   ]
  },
  {
   "cell_type": "code",
   "execution_count": null,
   "metadata": {},
   "outputs": [],
   "source": [
    "# normed_matrix = orig_prob_matrix/orig_prob_matrix.sum(axis=0)"
   ]
  },
  {
   "cell_type": "code",
   "execution_count": 9,
   "metadata": {},
   "outputs": [],
   "source": [
    "normed_matrix = np.load('normed_matrix.npy')"
   ]
  },
  {
   "cell_type": "code",
   "execution_count": 46,
   "metadata": {},
   "outputs": [],
   "source": [
    "# np.save('normed_matrix',normed_matrix)"
   ]
  },
  {
   "cell_type": "markdown",
   "metadata": {},
   "source": [
    "We can investigate what the 'she' and 'he' distributions look like for example."
   ]
  },
  {
   "cell_type": "code",
   "execution_count": 47,
   "metadata": {},
   "outputs": [],
   "source": [
    "she = wiki_model.wv.vocab[\"she\"].index\n",
    "he = wiki_model.wv.vocab[\"he\"].index"
   ]
  },
  {
   "cell_type": "code",
   "execution_count": 48,
   "metadata": {},
   "outputs": [],
   "source": [
    "she_dist = normed_matrix[:,she]"
   ]
  },
  {
   "cell_type": "code",
   "execution_count": 49,
   "metadata": {},
   "outputs": [],
   "source": [
    "he_dist = normed_matrix[:,he]"
   ]
  },
  {
   "cell_type": "code",
   "execution_count": 10,
   "metadata": {},
   "outputs": [],
   "source": [
    "appropriately_gendered_words = [\"he\", \"his\", \"her\", \"she\", \"him\", \"man\", \"women\", \"men\", \"woman\", \"spokesman\", \"wife\", \"himself\", \"son\", \"mother\", \"father\", \"chairman\",\n",
    "\"daughter\", \"husband\", \"guy\", \"girls\", \"girl\", \"boy\", \"boys\", \"brother\", \"spokeswoman\", \"female\", \"sister\", \"male\", \"herself\", \"brothers\", \"dad\",\n",
    "\"actress\", \"mom\", \"sons\", \"girlfriend\", \"daughters\", \"lady\", \"boyfriend\", \"sisters\", \"mothers\", \"king\", \"businessman\", \"grandmother\",\n",
    "\"grandfather\", \"deer\", \"ladies\", \"uncle\", \"males\", \"congressman\", \"grandson\", \"bull\", \"queen\", \"businessmen\", \"wives\", \"widow\",\n",
    "\"nephew\", \"bride\", \"females\", \"aunt\", \"prostate cancer\", \"lesbian\", \"chairwoman\", \"fathers\", \"moms\", \"maiden\", \"granddaughter\",\n",
    "\"younger brother\", \"lads\", \"lion\", \"gentleman\", \"fraternity\", \"bachelor\", \"niece\", \"bulls\", \"husbands\", \"prince\", \"colt\", \"salesman\", \"hers\",\n",
    "\"dude\", \"beard\", \"filly\", \"princess\", \"lesbians\", \"councilman\", \"actresses\", \"gentlemen\", \"stepfather\", \"monks\", \"ex girlfriend\", \"lad\",\n",
    "\"sperm\", \"testosterone\", \"nephews\", \"maid\", \"daddy\", \"mare\", \"fiance\", \"fiancee\", \"kings\", \"dads\", \"waitress\", \"maternal\", \"heroine\",\n",
    "\"nieces\", \"girlfriends\", \"sir\", \"stud\", \"mistress\", \"lions\", \"estranged wife\", \"womb\", \"grandma\", \"maternity\", \"estrogen\", \"ex boyfriend\",\n",
    "\"widows\", \"gelding\", \"diva\", \"teenage girls\", \"nuns\", \"czar\", \"ovarian cancer\", \"countrymen\", \"teenage girl\", \"penis\", \"bloke\", \"nun\",\n",
    "\"brides\", \"housewife\", \"spokesmen\", \"suitors\", \"menopause\", \"monastery\", \"motherhood\", \"brethren\", \"stepmother\", \"prostate\",\n",
    "\"hostess\", \"twin brother\", \"schoolboy\", \"brotherhood\", \"fillies\", \"stepson\", \"congresswoman\", \"uncles\", \"witch\", \"monk\", \"viagra\",\n",
    "\"paternity\", \"suitor\", \"sorority\", \"macho\", \"businesswoman\", \"eldest son\", \"gal\", \"statesman\", \"schoolgirl\", \"fathered\", \"goddess\",\n",
    "\"hubby\", \"stepdaughter\", \"blokes\", \"dudes\", \"strongman\", \"uterus\", \"grandsons\", \"studs\", \"mama\", \"godfather\", \"hens\", \"hen\", \"mommy\",\n",
    "\"estranged husband\", \"elder brother\", \"boyhood\", \"baritone\", \"grandmothers\", \"grandpa\", \"boyfriends\", \"feminism\", \"countryman\",\n",
    "\"stallion\", \"heiress\", \"queens\", \"witches\", \"aunts\", \"semen\", \"fella\", \"granddaughters\", \"chap\", \"widower\", \"salesmen\", \"convent\",\n",
    "\"vagina\", \"beau\", \"beards\", \"handyman\", \"twin sister\", \"maids\", \"gals\", \"housewives\", \"horsemen\", \"obstetrics\", \"fatherhood\",\n",
    "\"councilwoman\", \"princes\", \"matriarch\", \"colts\", \"ma\", \"fraternities\", \"pa\", \"fellas\", \"councilmen\", \"dowry\", \"barbershop\", \"fraternal\",\n",
    "\"ballerina\"]"
   ]
  },
  {
   "cell_type": "code",
   "execution_count": 11,
   "metadata": {},
   "outputs": [],
   "source": [
    "def get_indices_in_matrix(words):\n",
    "    def get_index(w):\n",
    "        try: \n",
    "            return wiki_model.wv.vocab[w].index\n",
    "        except:\n",
    "            print(\"not in model: {}\".format(w))\n",
    "            return size+10\n",
    "    indices = list(map(lambda word: get_index(word), words))\n",
    "    indices = list(filter(lambda i: i < size, indices))\n",
    "    return np.flip(np.sort(indices))"
   ]
  },
  {
   "cell_type": "code",
   "execution_count": 12,
   "metadata": {},
   "outputs": [
    {
     "name": "stdout",
     "output_type": "stream",
     "text": [
      "not in model: prostate cancer\n",
      "not in model: younger brother\n",
      "not in model: ex girlfriend\n",
      "not in model: estranged wife\n",
      "not in model: ex boyfriend\n",
      "not in model: teenage girls\n",
      "not in model: ovarian cancer\n",
      "not in model: teenage girl\n",
      "not in model: twin brother\n",
      "not in model: eldest son\n",
      "not in model: hubby\n",
      "not in model: estranged husband\n",
      "not in model: elder brother\n",
      "not in model: twin sister\n"
     ]
    }
   ],
   "source": [
    "app_gen_indices = get_indices_in_matrix(appropriately_gendered_words)"
   ]
  },
  {
   "cell_type": "code",
   "execution_count": 13,
   "metadata": {},
   "outputs": [
    {
     "data": {
      "text/plain": [
       "array([21353, 21000, 20573, 20493, 20237, 20001, 18705, 17899, 17859,\n",
       "       17774, 17720, 17561, 17256, 16744, 16600, 16556, 16167, 14873,\n",
       "       14675, 14537, 14523, 13817, 13688, 13607, 13540, 13451, 13343,\n",
       "       13190, 11964, 11867, 11788, 11592, 11222, 10470, 10387, 10383,\n",
       "       10185, 10115,  9883,  9813,  9554,  9280,  9236,  9226,  9179,\n",
       "        9155,  9109,  9087,  8986,  7633,  7617,  7553,  7510,  7498,\n",
       "        7455,  7259,  7212,  7131,  7034,  6963,  6904,  6642,  6325,\n",
       "        6308,  6237,  6084,  5674,  5584,  5428,  5370,  5092,  5019,\n",
       "        4577,  4144,  4068,  4044,  4021,  3790,  3524,  3349,  3126,\n",
       "        3122,  3005,  2944,  2710,  2704,  2626,  2471,  2385,  2127,\n",
       "        2091,  1748,  1552,  1467,  1443,  1250,  1243,  1218,  1204,\n",
       "        1158,  1102,  1077,  1051,  1033,  1020,  1002,   992,   847,\n",
       "         822,   789,   682,   679,   629,   627,   591,   551,   526,\n",
       "         435,   402,   386,   306,   293,   276,    94,    42,    40,\n",
       "          17,    13])"
      ]
     },
     "execution_count": 13,
     "metadata": {},
     "output_type": "execute_result"
    }
   ],
   "source": [
    "app_gen_indices"
   ]
  },
  {
   "cell_type": "code",
   "execution_count": 14,
   "metadata": {},
   "outputs": [
    {
     "data": {
      "text/plain": [
       "array([    0,     1,     2, ..., 21997, 21998, 21999])"
      ]
     },
     "execution_count": 14,
     "metadata": {},
     "output_type": "execute_result"
    }
   ],
   "source": [
    "inapp_gen_indices = np.array((filter(lambda x: x not in app_gen_indices, np.arange(size))))\n",
    "inapp_gen_indices"
   ]
  },
  {
   "cell_type": "markdown",
   "metadata": {},
   "source": [
    "Portion of the distribution in the app_gen section of the 'he' vector"
   ]
  },
  {
   "cell_type": "code",
   "execution_count": 54,
   "metadata": {},
   "outputs": [
    {
     "data": {
      "text/plain": [
       "0.00012946995137729498"
      ]
     },
     "execution_count": 54,
     "metadata": {},
     "output_type": "execute_result"
    }
   ],
   "source": [
    "np.sum(he_dist[app_gen_indices])"
   ]
  },
  {
   "cell_type": "markdown",
   "metadata": {},
   "source": [
    "Portion of the distribution in the app_gen section of the 'she' vector"
   ]
  },
  {
   "cell_type": "code",
   "execution_count": 55,
   "metadata": {},
   "outputs": [
    {
     "data": {
      "text/plain": [
       "0.2711311975090502"
      ]
     },
     "execution_count": 55,
     "metadata": {},
     "output_type": "execute_result"
    }
   ],
   "source": [
    "np.sum(she_dist[app_gen_indices])"
   ]
  },
  {
   "cell_type": "code",
   "execution_count": 15,
   "metadata": {},
   "outputs": [],
   "source": [
    "gender_word_pairs = [('he','she'),('man','woman'),('his','her'),('himself','herself'),('men','women'),('husband','wife'),('girl','boy'),('men','women'),('brother','sister'),('mother','father'),('aunt','uncle'),('grandfather','grandmother'),('son','daughter')]\n"
   ]
  },
  {
   "cell_type": "code",
   "execution_count": 19,
   "metadata": {},
   "outputs": [],
   "source": [
    "def debias_vector_pairs(gender_pairs,orig_matrix,model):\n",
    "    new_mat = orig_matrix.copy()\n",
    "    for p1,p2 in gender_pairs:\n",
    "        print('debiasing distributions {} and {}'.format(p1,p2))\n",
    "        p1_index,p2_index = model.wv.vocab[p1].index, model.wv.vocab[p2].index\n",
    "        p1_dist = new_mat[inapp_gen_indices,p1_index]\n",
    "        p2_dist = new_mat[inapp_gen_indices,p2_index]\n",
    "        normed_p1_dist,normed_p2_dist = p1_dist/np.sum(p1_dist), p2_dist/np.sum(p2_dist)\n",
    "        A = np.vstack((normed_p1_dist, normed_p2_dist)).T\n",
    "        n_distributions = A.shape[1]\n",
    "        M = ot.utils.dist0(len(p1_dist))\n",
    "        M /= M.max()\n",
    "        alpha = 0.2  # 0<=alpha<=1\n",
    "        weights = np.array([1 - alpha, alpha])\n",
    "\n",
    "        # wasserstein\n",
    "        reg = 1e2\n",
    "        bary_wass = ot.bregman.barycenter(A, M, reg, weights)\n",
    "\n",
    "        new_mat[inapp_gen_indices,p1_index] = bary_wass * np.sum(p1_dist)\n",
    "        new_mat[inapp_gen_indices,p2_index] = bary_wass * np.sum(p2_dist)\n",
    "    return new_mat\n",
    "\n"
   ]
  },
  {
   "cell_type": "code",
   "execution_count": 95,
   "metadata": {},
   "outputs": [],
   "source": [
    "normed_matrix = np.load('normed_matrix.npy')"
   ]
  },
  {
   "cell_type": "markdown",
   "metadata": {},
   "source": [
    "Caution -- the cell below takes ~1 hour to run."
   ]
  },
  {
   "cell_type": "code",
   "execution_count": 21,
   "metadata": {},
   "outputs": [],
   "source": [
    "new_mat = debias_vector_pairs(gender_word_pairs,normed_matrix,wiki_model)"
   ]
  },
  {
   "cell_type": "code",
   "execution_count": 22,
   "metadata": {},
   "outputs": [],
   "source": [
    "np.save('debiased_matrix',new_mat)"
   ]
  }
 ],
 "metadata": {
  "kernelspec": {
   "display_name": "Python 2",
   "language": "python",
   "name": "python2"
  },
  "language_info": {
   "codemirror_mode": {
    "name": "ipython",
    "version": 2
   },
   "file_extension": ".py",
   "mimetype": "text/x-python",
   "name": "python",
   "nbconvert_exporter": "python",
   "pygments_lexer": "ipython2",
   "version": "2.7.15"
  }
 },
 "nbformat": 4,
 "nbformat_minor": 2
}
