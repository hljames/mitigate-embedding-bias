{
 "cells": [
  {
   "cell_type": "code",
   "execution_count": 76,
   "metadata": {},
   "outputs": [],
   "source": [
    "import numpy as np\n",
    "from gensim.models import Word2Vec\n",
    "from gensim.models import KeyedVectors\n",
    "import tensorflow as tf\n",
    "import sys\n",
    "import json\n",
    "import matplotlib.pyplot as plt"
   ]
  },
  {
   "cell_type": "markdown",
   "metadata": {},
   "source": [
    "Quantify bias of embeddings by measuring the proportion of socially-biased male and female neighbors of the target word (in this case, professions) -- see Goldberg's \"Lipstick on a Pig\""
   ]
  },
  {
   "cell_type": "code",
   "execution_count": 42,
   "metadata": {},
   "outputs": [],
   "source": [
    "vocab_size = 22000\n",
    "vector_dim = 100\n",
    "k_knn = 20"
   ]
  },
  {
   "cell_type": "code",
   "execution_count": 54,
   "metadata": {},
   "outputs": [],
   "source": [
    "wiki_model = Word2Vec.load(\"english-wikipedia-articles-20170820-models/enwiki_2017_08_20_fasttext.model\")"
   ]
  },
  {
   "cell_type": "code",
   "execution_count": 55,
   "metadata": {},
   "outputs": [],
   "source": [
    "orig_biased_vecs = wiki_model.wv.vectors[:vocab_size]"
   ]
  },
  {
   "cell_type": "code",
   "execution_count": 43,
   "metadata": {},
   "outputs": [],
   "source": [
    "bolukbasi_debiased_vecs = np.load('bolukbasi_debiased_vecs.npy')"
   ]
  },
  {
   "cell_type": "code",
   "execution_count": 44,
   "metadata": {},
   "outputs": [],
   "source": [
    "prob_debiased_vecs = np.load('fasttext_wiki_debias_prob_wvs.npy')"
   ]
  },
  {
   "cell_type": "code",
   "execution_count": 45,
   "metadata": {},
   "outputs": [],
   "source": [
    "cluster_debiased_vecs = np.load('fasttext_wiki_debias_cluster_wvs.npy')\n"
   ]
  },
  {
   "cell_type": "code",
   "execution_count": 46,
   "metadata": {},
   "outputs": [],
   "source": [
    "professions = np.load('professions.npy')\n",
    "professions_inds = np.load('professions_inds.npy')"
   ]
  },
  {
   "cell_type": "code",
   "execution_count": 47,
   "metadata": {},
   "outputs": [
    {
     "data": {
      "text/plain": [
       "221"
      ]
     },
     "execution_count": 47,
     "metadata": {},
     "output_type": "execute_result"
    }
   ],
   "source": [
    "len(professions)"
   ]
  },
  {
   "cell_type": "code",
   "execution_count": 48,
   "metadata": {},
   "outputs": [],
   "source": [
    "male_neighbors = np.load('male_neighbors.npy')\n",
    "male_neighbors_inds = np.array([wiki_model.wv.vocab[w].index for w in male_neighbors])\n"
   ]
  },
  {
   "cell_type": "code",
   "execution_count": 49,
   "metadata": {},
   "outputs": [],
   "source": [
    "female_neighbors = np.load('female_neighbors.npy')\n",
    "female_neighbors_inds = np.array([wiki_model.wv.vocab[w].index for w in female_neighbors])"
   ]
  },
  {
   "cell_type": "code",
   "execution_count": 50,
   "metadata": {},
   "outputs": [],
   "source": [
    "neigbors = np.concatenate((female_neighbors,male_neighbors))"
   ]
  },
  {
   "cell_type": "code",
   "execution_count": 51,
   "metadata": {},
   "outputs": [],
   "source": [
    "neighbors_inds = np.concatenate([female_neighbors_inds,male_neighbors_inds])\n"
   ]
  },
  {
   "cell_type": "code",
   "execution_count": 52,
   "metadata": {},
   "outputs": [
    {
     "data": {
      "text/plain": [
       "1000"
      ]
     },
     "execution_count": 52,
     "metadata": {},
     "output_type": "execute_result"
    }
   ],
   "source": [
    "len(neighbors_inds)"
   ]
  },
  {
   "cell_type": "code",
   "execution_count": 53,
   "metadata": {},
   "outputs": [
    {
     "data": {
      "text/plain": [
       "500"
      ]
     },
     "execution_count": 53,
     "metadata": {},
     "output_type": "execute_result"
    }
   ],
   "source": [
    "len(neighbors_inds)//2"
   ]
  },
  {
   "cell_type": "code",
   "execution_count": 116,
   "metadata": {},
   "outputs": [
    {
     "name": "stdout",
     "output_type": "stream",
     "text": [
      "Target accountant Prop Male: 0.5\n",
      "Target acquaintance Prop Male: 0.55\n",
      "Target actor Prop Male: 0.4\n",
      "Target actress Prop Male: 0.6\n",
      "Target administrator Prop Male: 0.55\n",
      "Target adventurer Prop Male: 0.55\n",
      "Target advocate Prop Male: 0.55\n",
      "Target aide Prop Male: 0.5\n",
      "Target alderman Prop Male: 0.4\n",
      "Target ambassador Prop Male: 0.5\n",
      "Target analyst Prop Male: 0.5\n",
      "Target anthropologist Prop Male: 0.4\n",
      "Target archaeologist Prop Male: 0.5\n",
      "Target archbishop Prop Male: 0.6\n",
      "Target architect Prop Male: 0.4\n",
      "Target artist Prop Male: 0.5\n",
      "Target assassin Prop Male: 0.5\n",
      "Target astronaut Prop Male: 0.7\n",
      "Target astronomer Prop Male: 0.45\n",
      "Target athlete Prop Male: 0.65\n",
      "Target attorney Prop Male: 0.45\n",
      "Target author Prop Male: 0.35\n",
      "Target baker Prop Male: 0.45\n",
      "Target banker Prop Male: 0.5\n",
      "Target barber Prop Male: 0.45\n",
      "Target baron Prop Male: 0.55\n",
      "Target barrister Prop Male: 0.55\n",
      "Target bartender Prop Male: 0.45\n",
      "Target biologist Prop Male: 0.55\n",
      "Target bishop Prop Male: 0.45\n",
      "Target bodyguard Prop Male: 0.5\n",
      "Target boss Prop Male: 0.45\n",
      "Target boxer Prop Male: 0.25\n",
      "Target broadcaster Prop Male: 0.4\n",
      "Target broker Prop Male: 0.45\n",
      "Target businessman Prop Male: 0.65\n",
      "Target butcher Prop Male: 0.5\n",
      "Target butler Prop Male: 0.65\n",
      "Target captain Prop Male: 0.55\n",
      "Target caretaker Prop Male: 0.35\n",
      "Target carpenter Prop Male: 0.55\n",
      "Target cartoonist Prop Male: 0.5\n",
      "Target cellist Prop Male: 0.45\n",
      "Target chancellor Prop Male: 0.65\n",
      "Target chaplain Prop Male: 0.45\n",
      "Target character Prop Male: 0.45\n",
      "Target chef Prop Male: 0.4\n",
      "Target chemist Prop Male: 0.65\n",
      "Target choreographer Prop Male: 0.65\n",
      "Target cinematographer Prop Male: 0.45\n",
      "Target citizen Prop Male: 0.5\n",
      "Target cleric Prop Male: 0.6\n",
      "Target clerk Prop Male: 0.5\n",
      "Target coach Prop Male: 0.55\n",
      "Target collector Prop Male: 0.35\n",
      "Target colonel Prop Male: 0.5\n",
      "Target columnist Prop Male: 0.4\n",
      "Target comedian Prop Male: 0.3\n",
      "Target comic Prop Male: 0.55\n",
      "Target commander Prop Male: 0.65\n",
      "Target commentator Prop Male: 0.35\n",
      "Target commissioner Prop Male: 0.5\n",
      "Target composer Prop Male: 0.45\n",
      "Target conductor Prop Male: 0.5\n",
      "Target confesses Prop Male: 0.5\n",
      "Target congressman Prop Male: 0.5\n",
      "Target constable Prop Male: 0.55\n",
      "Target consultant Prop Male: 0.5\n",
      "Target cop Prop Male: 0.5\n",
      "Target correspondent Prop Male: 0.5\n",
      "Target counselor Prop Male: 0.5\n",
      "Target critic Prop Male: 0.5\n",
      "Target crusader Prop Male: 0.45\n",
      "Target curator Prop Male: 0.45\n",
      "Target dad Prop Male: 0.5\n",
      "Target dancer Prop Male: 0.55\n",
      "Target dean Prop Male: 0.5\n",
      "Target dentist Prop Male: 0.6\n",
      "Target deputy Prop Male: 0.45\n",
      "Target detective Prop Male: 0.55\n",
      "Target diplomat Prop Male: 0.6\n",
      "Target director Prop Male: 0.45\n",
      "Target doctor Prop Male: 0.5\n",
      "Target drummer Prop Male: 0.45\n",
      "Target economist Prop Male: 0.45\n",
      "Target editor Prop Male: 0.4\n",
      "Target educator Prop Male: 0.4\n",
      "Target employee Prop Male: 0.55\n",
      "Target entertainer Prop Male: 0.5\n",
      "Target entrepreneur Prop Male: 0.55\n",
      "Target envoy Prop Male: 0.5\n",
      "Target evangelist Prop Male: 0.45\n",
      "Target farmer Prop Male: 0.5\n",
      "Target filmmaker Prop Male: 0.45\n",
      "Target financier Prop Male: 0.5\n",
      "Target fisherman Prop Male: 0.45\n",
      "Target footballer Prop Male: 0.55\n",
      "Target foreman Prop Male: 0.55\n",
      "Target gangster Prop Male: 0.55\n",
      "Target gardener Prop Male: 0.6\n",
      "Target geologist Prop Male: 0.5\n",
      "Target goalkeeper Prop Male: 0.45\n",
      "Target guitarist Prop Male: 0.5\n",
      "Target headmaster Prop Male: 0.55\n",
      "Target historian Prop Male: 0.3\n",
      "Target hooker Prop Male: 0.55\n",
      "Target illustrator Prop Male: 0.55\n",
      "Target industrialist Prop Male: 0.55\n",
      "Target inspector Prop Male: 0.45\n",
      "Target instructor Prop Male: 0.6\n",
      "Target inventor Prop Male: 0.45\n",
      "Target investigator Prop Male: 0.6\n",
      "Target journalist Prop Male: 0.5\n",
      "Target judge Prop Male: 0.55\n",
      "Target jurist Prop Male: 0.45\n",
      "Target landlord Prop Male: 0.5\n",
      "Target lawyer Prop Male: 0.5\n",
      "Target lecturer Prop Male: 0.55\n",
      "Target legislator Prop Male: 0.5\n",
      "Target librarian Prop Male: 0.5\n",
      "Target lieutenant Prop Male: 0.55\n",
      "Target lyricist Prop Male: 0.45\n",
      "Target maestro Prop Male: 0.5\n",
      "Target magician Prop Male: 0.5\n",
      "Target magistrate Prop Male: 0.45\n",
      "Target maid Prop Male: 0.4\n",
      "Target manager Prop Male: 0.5\n",
      "Target marshal Prop Male: 0.55\n",
      "Target mathematician Prop Male: 0.55\n",
      "Target mechanic Prop Male: 0.55\n",
      "Target midfielder Prop Male: 0.5\n",
      "Target minister Prop Male: 0.65\n",
      "Target missionary Prop Male: 0.3\n",
      "Target monk Prop Male: 0.6\n",
      "Target musician Prop Male: 0.45\n",
      "Target nanny Prop Male: 0.5\n",
      "Target narrator Prop Male: 0.5\n",
      "Target naturalist Prop Male: 0.55\n",
      "Target novelist Prop Male: 0.4\n",
      "Target nun Prop Male: 0.4\n",
      "Target nurse Prop Male: 0.45\n",
      "Target observer Prop Male: 0.4\n",
      "Target officer Prop Male: 0.55\n",
      "Target organist Prop Male: 0.5\n",
      "Target painter Prop Male: 0.45\n",
      "Target pastor Prop Male: 0.6\n",
      "Target performer Prop Male: 0.55\n",
      "Target philanthropist Prop Male: 0.5\n",
      "Target philosopher Prop Male: 0.35\n",
      "Target photographer Prop Male: 0.45\n",
      "Target physician Prop Male: 0.6\n",
      "Target physicist Prop Male: 0.45\n",
      "Target pianist Prop Male: 0.5\n",
      "Target planner Prop Male: 0.45\n",
      "Target playwright Prop Male: 0.35\n",
      "Target poet Prop Male: 0.5\n",
      "Target policeman Prop Male: 0.5\n",
      "Target politician Prop Male: 0.4\n",
      "Target preacher Prop Male: 0.35\n",
      "Target president Prop Male: 0.45\n",
      "Target priest Prop Male: 0.55\n",
      "Target principal Prop Male: 0.6\n",
      "Target prisoner Prop Male: 0.55\n",
      "Target professor Prop Male: 0.55\n",
      "Target programmer Prop Male: 0.5\n",
      "Target promoter Prop Male: 0.6\n",
      "Target proprietor Prop Male: 0.5\n",
      "Target prosecutor Prop Male: 0.55\n",
      "Target protagonist Prop Male: 0.55\n",
      "Target provost Prop Male: 0.5\n",
      "Target psychiatrist Prop Male: 0.45\n",
      "Target psychologist Prop Male: 0.5\n",
      "Target rabbi Prop Male: 0.4\n",
      "Target ranger Prop Male: 0.55\n",
      "Target researcher Prop Male: 0.45\n",
      "Target sailor Prop Male: 0.4\n",
      "Target saint Prop Male: 0.6\n",
      "Target salesman Prop Male: 0.4\n",
      "Target saxophonist Prop Male: 0.6\n",
      "Target scholar Prop Male: 0.45\n",
      "Target scientist Prop Male: 0.6\n",
      "Target screenwriter Prop Male: 0.45\n",
      "Target sculptor Prop Male: 0.55\n",
      "Target secretary Prop Male: 0.55\n",
      "Target senator Prop Male: 0.55\n",
      "Target sergeant Prop Male: 0.65\n",
      "Target servant Prop Male: 0.4\n",
      "Target singer Prop Male: 0.6\n",
      "Target skipper Prop Male: 0.6\n",
      "Target sociologist Prop Male: 0.5\n",
      "Target soldier Prop Male: 0.55\n",
      "Target solicitor Prop Male: 0.5\n",
      "Target soloist Prop Male: 0.6\n",
      "Target sportsman Prop Male: 0.5\n",
      "Target statesman Prop Male: 0.6\n",
      "Target steward Prop Male: 0.55\n",
      "Target student Prop Male: 0.45\n",
      "Target substitute Prop Male: 0.4\n",
      "Target superintendent Prop Male: 0.6\n",
      "Target surgeon Prop Male: 0.55\n",
      "Target surveyor Prop Male: 0.45\n",
      "Target swimmer Prop Male: 0.6\n",
      "Target teacher Prop Male: 0.45\n",
      "Target technician Prop Male: 0.55\n",
      "Target teenager Prop Male: 0.55\n",
      "Target therapist Prop Male: 0.5\n",
      "Target trader Prop Male: 0.45\n",
      "Target treasurer Prop Male: 0.5\n",
      "Target trooper Prop Male: 0.35\n",
      "Target trumpeter Prop Male: 0.45\n",
      "Target tutor Prop Male: 0.5\n",
      "Target tycoon Prop Male: 0.55\n",
      "Target violinist Prop Male: 0.55\n",
      "Target vocalist Prop Male: 0.45\n",
      "Target waiter Prop Male: 0.5\n",
      "Target waitress Prop Male: 0.5\n",
      "Target warden Prop Male: 0.6\n",
      "Target warrior Prop Male: 0.45\n",
      "Target worker Prop Male: 0.55\n",
      "Target wrestler Prop Male: 0.4\n",
      "Target writer Prop Male: 0.35\n",
      "{'accountant': 0.5, 'acquaintance': 0.55, 'actor': 0.4, 'actress': 0.6, 'administrator': 0.55, 'adventurer': 0.55, 'advocate': 0.55, 'aide': 0.5, 'alderman': 0.4, 'ambassador': 0.5, 'analyst': 0.5, 'anthropologist': 0.4, 'archaeologist': 0.5, 'archbishop': 0.6, 'architect': 0.4, 'artist': 0.5, 'assassin': 0.5, 'astronaut': 0.7, 'astronomer': 0.45, 'athlete': 0.65, 'attorney': 0.45, 'author': 0.35, 'baker': 0.45, 'banker': 0.5, 'barber': 0.45, 'baron': 0.55, 'barrister': 0.55, 'bartender': 0.45, 'biologist': 0.55, 'bishop': 0.45, 'bodyguard': 0.5, 'boss': 0.45, 'boxer': 0.25, 'broadcaster': 0.4, 'broker': 0.45, 'businessman': 0.65, 'butcher': 0.5, 'butler': 0.65, 'captain': 0.55, 'caretaker': 0.35, 'carpenter': 0.55, 'cartoonist': 0.5, 'cellist': 0.45, 'chancellor': 0.65, 'chaplain': 0.45, 'character': 0.45, 'chef': 0.4, 'chemist': 0.65, 'choreographer': 0.65, 'cinematographer': 0.45, 'citizen': 0.5, 'cleric': 0.6, 'clerk': 0.5, 'coach': 0.55, 'collector': 0.35, 'colonel': 0.5, 'columnist': 0.4, 'comedian': 0.3, 'comic': 0.55, 'commander': 0.65, 'commentator': 0.35, 'commissioner': 0.5, 'composer': 0.45, 'conductor': 0.5, 'confesses': 0.5, 'congressman': 0.5, 'constable': 0.55, 'consultant': 0.5, 'cop': 0.5, 'correspondent': 0.5, 'counselor': 0.5, 'critic': 0.5, 'crusader': 0.45, 'curator': 0.45, 'dad': 0.5, 'dancer': 0.55, 'dean': 0.5, 'dentist': 0.6, 'deputy': 0.45, 'detective': 0.55, 'diplomat': 0.6, 'director': 0.45, 'doctor': 0.5, 'drummer': 0.45, 'economist': 0.45, 'editor': 0.4, 'educator': 0.4, 'employee': 0.55, 'entertainer': 0.5, 'entrepreneur': 0.55, 'envoy': 0.5, 'evangelist': 0.45, 'farmer': 0.5, 'filmmaker': 0.45, 'financier': 0.5, 'fisherman': 0.45, 'footballer': 0.55, 'foreman': 0.55, 'gangster': 0.55, 'gardener': 0.6, 'geologist': 0.5, 'goalkeeper': 0.45, 'guitarist': 0.5, 'headmaster': 0.55, 'historian': 0.3, 'hooker': 0.55, 'illustrator': 0.55, 'industrialist': 0.55, 'inspector': 0.45, 'instructor': 0.6, 'inventor': 0.45, 'investigator': 0.6, 'journalist': 0.5, 'judge': 0.55, 'jurist': 0.45, 'landlord': 0.5, 'lawyer': 0.5, 'lecturer': 0.55, 'legislator': 0.5, 'librarian': 0.5, 'lieutenant': 0.55, 'lyricist': 0.45, 'maestro': 0.5, 'magician': 0.5, 'magistrate': 0.45, 'maid': 0.4, 'manager': 0.5, 'marshal': 0.55, 'mathematician': 0.55, 'mechanic': 0.55, 'midfielder': 0.5, 'minister': 0.65, 'missionary': 0.3, 'monk': 0.6, 'musician': 0.45, 'nanny': 0.5, 'narrator': 0.5, 'naturalist': 0.55, 'novelist': 0.4, 'nun': 0.4, 'nurse': 0.45, 'observer': 0.4, 'officer': 0.55, 'organist': 0.5, 'painter': 0.45, 'pastor': 0.6, 'performer': 0.55, 'philanthropist': 0.5, 'philosopher': 0.35, 'photographer': 0.45, 'physician': 0.6, 'physicist': 0.45, 'pianist': 0.5, 'planner': 0.45, 'playwright': 0.35, 'poet': 0.5, 'policeman': 0.5, 'politician': 0.4, 'preacher': 0.35, 'president': 0.45, 'priest': 0.55, 'principal': 0.6, 'prisoner': 0.55, 'professor': 0.55, 'programmer': 0.5, 'promoter': 0.6, 'proprietor': 0.5, 'prosecutor': 0.55, 'protagonist': 0.55, 'provost': 0.5, 'psychiatrist': 0.45, 'psychologist': 0.5, 'rabbi': 0.4, 'ranger': 0.55, 'researcher': 0.45, 'sailor': 0.4, 'saint': 0.6, 'salesman': 0.4, 'saxophonist': 0.6, 'scholar': 0.45, 'scientist': 0.6, 'screenwriter': 0.45, 'sculptor': 0.55, 'secretary': 0.55, 'senator': 0.55, 'sergeant': 0.65, 'servant': 0.4, 'singer': 0.6, 'skipper': 0.6, 'sociologist': 0.5, 'soldier': 0.55, 'solicitor': 0.5, 'soloist': 0.6, 'sportsman': 0.5, 'statesman': 0.6, 'steward': 0.55, 'student': 0.45, 'substitute': 0.4, 'superintendent': 0.6, 'surgeon': 0.55, 'surveyor': 0.45, 'swimmer': 0.6, 'teacher': 0.45, 'technician': 0.55, 'teenager': 0.55, 'therapist': 0.5, 'trader': 0.45, 'treasurer': 0.5, 'trooper': 0.35, 'trumpeter': 0.45, 'tutor': 0.5, 'tycoon': 0.55, 'violinist': 0.55, 'vocalist': 0.45, 'waiter': 0.5, 'waitress': 0.5, 'warden': 0.6, 'warrior': 0.45, 'worker': 0.55, 'wrestler': 0.4, 'writer': 0.35}\n",
      "Done!\n"
     ]
    }
   ],
   "source": [
    "professions_vecs = cluster_debiased_vecs[professions_inds]\n",
    "\n",
    "neighbors_vecs = cluster_debiased_vecs[neighbors_inds]\n",
    "\n",
    "\n",
    "# tf Graph Input\n",
    "neighbors = tf.placeholder(\"float\", [None, vector_dim],name='neighbors')\n",
    "profession = tf.placeholder(\"float\", [vector_dim],name='profession')\n",
    "\n",
    "# Nearest Neighbor calculation using L1 Distance\n",
    "# Calculate L1 Distance\n",
    "distance = tf.reduce_sum(tf.abs(tf.add(neighbors, tf.negative(profession))), reduction_indices=1)\n",
    "\n",
    "# Nearest Neighbor calculation using L2 Distance\n",
    "# Calculate L2 Distance\n",
    "# distance = tf.sqrt(tf.reduce_sum(tf.squared_difference(neighbors, profession), reduction_indices=1))\n",
    "\n",
    "vals,inds = tf.math.top_k(tf.negative(distance),k=k_knn)\n",
    "\n",
    "bools = tf.math.greater(inds,(len(neighbors_inds)//2))\n",
    "\n",
    "proportion = tf.reduce_mean(tf.cast(bools, tf.float32)) \n",
    "\n",
    "# accuracy = 0.\n",
    "\n",
    "# Initialize the variables (i.e. assign their default value)\n",
    "init = tf.global_variables_initializer()\n",
    "\n",
    "# Start training\n",
    "with tf.Session() as sess:\n",
    "\n",
    "    # Run the initializer\n",
    "    sess.run(init)\n",
    "\n",
    "    # loop over target words\n",
    "    props={}\n",
    "    for i in range(len(professions_vecs)):\n",
    "\n",
    "        # Get nearest neighbors \n",
    "        \n",
    "        # Report proportion male\n",
    "        prop = sess.run(proportion, feed_dict={neighbors: neighbors_vecs, profession: professions_vecs[i, :]})\n",
    "        print(\"Target\", professions[i], \"Prop Male:\", prop)\n",
    "        props[professions[i]] = prop\n",
    "    \n",
    "#         Report neighbors\n",
    "#         if professions[i] in profession_examples:\n",
    "#             inds_res = sess.run(inds, feed_dict={neighbors: neighbors_vecs, profession: professions_vecs[i, :]})\n",
    "#             inds_ns = neighbors_inds[inds_res]\n",
    "#             ns = np.array([wiki_model.wv.index2word[ind] for ind in inds_ns])\n",
    "#             print(\"Target:\", professions[i], \"KNN:\", ns)\n",
    "        \n",
    "#         if professions[i] == 'ballerina':\n",
    "#             distance = sess.run(distance, feed_dict={neighbors: neighbors_vecs, profession: professions_vecs[i, :]})\n",
    "#             print(\"Target:\", professions[i], \"KNN:\", distance)\n",
    "#             np.save('distance_ex', distance)\n",
    "            \n",
    "    print(props)\n",
    "    print(\"Done!\")\n",
    "    "
   ]
  },
  {
   "cell_type": "code",
   "execution_count": 57,
   "metadata": {},
   "outputs": [],
   "source": [
    "props_o = {'accountant': 0.05, 'acquaintance': 0.15, 'actor': 0.9, 'actress': 0.0, 'administrator': 0.35, 'adventurer': 0.85, 'advocate': 0.0, 'aide': 0.7, 'alderman': 1.0, 'ambassador': 0.5, 'analyst': 0.1, 'anthropologist': 0.45, 'archaeologist': 0.65, 'archbishop': 1.0, 'architect': 1.0, 'artist': 0.3, 'assassin': 0.8, 'astronaut': 0.85, 'astronomer': 1.0, 'athlete': 0.45, 'attorney': 1.0, 'author': 0.75, 'baker': 1.0, 'banker': 1.0, 'barber': 1.0, 'baron': 0.95, 'barrister': 0.9, 'bartender': 0.75, 'biologist': 0.65, 'bishop': 1.0, 'bodyguard': 0.75, 'boss': 0.95, 'boxer': 1.0, 'broadcaster': 0.65, 'broker': 0.95, 'businessman': 0.9, 'butcher': 1.0, 'butler': 1.0, 'captain': 1.0, 'caretaker': 0.85, 'carpenter': 1.0, 'cartoonist': 0.95, 'cellist': 0.6, 'chancellor': 0.85, 'chaplain': 0.85, 'character': 0.15, 'chef': 0.7, 'chemist': 0.85, 'choreographer': 0.2, 'cinematographer': 0.65, 'citizen': 0.0, 'cleric': 0.95, 'clerk': 1.0, 'coach': 1.0, 'collector': 0.6, 'colonel': 1.0, 'columnist': 0.9, 'comedian': 0.65, 'comic': 0.0, 'commander': 1.0, 'commentator': 0.7, 'commissioner': 0.65, 'composer': 0.8, 'conductor': 0.8, 'confesses': 0.0, 'congressman': 1.0, 'constable': 0.2, 'consultant': 0.0, 'cop': 0.7, 'correspondent': 0.05, 'counselor': 0.15, 'critic': 0.0, 'crusader': 0.95, 'curator': 0.5, 'dad': 0.75, 'dancer': 0.0, 'dean': 1.0, 'dentist': 0.3, 'deputy': 0.85, 'detective': 0.15, 'diplomat': 0.8, 'director': 0.65, 'doctor': 0.7, 'drummer': 1.0, 'economist': 0.1, 'editor': 0.85, 'educator': 0.4, 'employee': 0.0, 'entertainer': 0.4, 'entrepreneur': 0.3, 'envoy': 0.85, 'evangelist': 0.8, 'farmer': 0.9, 'filmmaker': 0.45, 'financier': 0.55, 'fisherman': 0.65, 'footballer': 1.0, 'foreman': 1.0, 'gangster': 0.65, 'gardener': 0.65, 'geologist': 0.85, 'goalkeeper': 1.0, 'guitarist': 1.0, 'headmaster': 0.9, 'historian': 0.7, 'hooker': 1.0, 'illustrator': 0.75, 'industrialist': 0.15, 'inspector': 0.7, 'instructor': 0.45, 'inventor': 0.9, 'investigator': 0.1, 'journalist': 0.65, 'judge': 0.95, 'jurist': 0.6, 'landlord': 0.75, 'lawyer': 0.85, 'lecturer': 0.7, 'legislator': 0.45, 'librarian': 0.3, 'lieutenant': 1.0, 'lyricist': 0.6, 'maestro': 0.2, 'magician': 0.85, 'magistrate': 0.2, 'maid': 0.05, 'manager': 1.0, 'marshal': 1.0, 'mathematician': 0.95, 'mechanic': 0.15, 'midfielder': 1.0, 'minister': 0.5, 'missionary': 0.25, 'monk': 1.0, 'musician': 0.9, 'nanny': 0.0, 'narrator': 0.55, 'naturalist': 0.6, 'novelist': 0.45, 'nun': 0.1, 'nurse': 0.05, 'observer': 0.0, 'officer': 0.95, 'organist': 0.75, 'painter': 0.7, 'pastor': 0.85, 'performer': 0.25, 'philanthropist': 0.7, 'philosopher': 0.8, 'photographer': 0.45, 'physician': 0.8, 'physicist': 0.85, 'pianist': 0.65, 'planner': 0.15, 'playwright': 0.8, 'poet': 0.55, 'policeman': 0.65, 'politician': 0.85, 'preacher': 0.7, 'president': 0.6, 'priest': 0.9, 'principal': 0.35, 'prisoner': 0.6, 'professor': 0.8, 'programmer': 0.15, 'promoter': 0.4, 'proprietor': 0.55, 'prosecutor': 0.3, 'protagonist': 0.1, 'provost': 0.55, 'psychiatrist': 0.35, 'psychologist': 0.55, 'rabbi': 1.0, 'ranger': 0.9, 'researcher': 0.0, 'sailor': 0.55, 'saint': 0.7, 'salesman': 0.75, 'saxophonist': 1.0, 'scholar': 0.6, 'scientist': 0.3, 'screenwriter': 0.55, 'sculptor': 0.9, 'secretary': 0.6, 'senator': 1.0, 'sergeant': 1.0, 'servant': 0.65, 'singer': 0.25, 'skipper': 0.95, 'sociologist': 0.55, 'soldier': 0.9, 'solicitor': 0.7, 'soloist': 0.35, 'sportsman': 0.95, 'statesman': 0.95, 'steward': 1.0, 'student': 0.0, 'substitute': 0.85, 'superintendent': 0.6, 'surgeon': 0.75, 'surveyor': 0.7, 'swimmer': 0.35, 'teacher': 0.25, 'technician': 0.75, 'teenager': 0.55, 'therapist': 0.0, 'trader': 0.4, 'treasurer': 0.7, 'trooper': 0.95, 'trumpeter': 1.0, 'tutor': 0.7, 'tycoon': 0.7, 'violinist': 0.4, 'vocalist': 0.65, 'waiter': 0.7, 'waitress': 0.05, 'warden': 0.95, 'warrior': 0.7, 'worker': 0.1, 'wrestler': 1.0, 'writer': 0.8}\n"
   ]
  },
  {
   "cell_type": "code",
   "execution_count": 60,
   "metadata": {},
   "outputs": [],
   "source": [
    "props_b = {'accountant': 0.15, 'acquaintance': 0.05, 'actor': 0.55, 'actress': 0.0, 'administrator': 0.5, 'adventurer': 0.9, 'advocate': 0.0, 'aide': 0.7, 'alderman': 1.0, 'ambassador': 0.95, 'analyst': 0.25, 'anthropologist': 0.8, 'archaeologist': 0.9, 'archbishop': 0.85, 'architect': 0.8, 'artist': 0.5, 'assassin': 0.75, 'astronaut': 0.9, 'astronomer': 0.9, 'athlete': 0.6, 'attorney': 1.0, 'author': 0.8, 'baker': 1.0, 'banker': 1.0, 'barber': 1.0, 'baron': 0.95, 'barrister': 1.0, 'bartender': 0.95, 'biologist': 0.8, 'bishop': 0.95, 'bodyguard': 0.85, 'boss': 0.85, 'boxer': 1.0, 'broadcaster': 0.65, 'broker': 1.0, 'businessman': 0.8, 'butcher': 1.0, 'butler': 1.0, 'captain': 1.0, 'caretaker': 0.9, 'carpenter': 1.0, 'cartoonist': 0.7, 'cellist': 0.8, 'chancellor': 0.9, 'chaplain': 0.9, 'character': 0.1, 'chef': 0.2, 'chemist': 0.85, 'choreographer': 0.15, 'cinematographer': 0.7, 'citizen': 0.15, 'cleric': 0.75, 'clerk': 0.95, 'coach': 1.0, 'collector': 0.9, 'colonel': 1.0, 'columnist': 0.9, 'comedian': 0.8, 'comic': 0.05, 'commander': 1.0, 'commentator': 0.3, 'commissioner': 1.0, 'composer': 0.8, 'conductor': 0.95, 'confesses': 0.0, 'congressman': 1.0, 'constable': 0.45, 'consultant': 0.1, 'cop': 0.65, 'correspondent': 0.15, 'counselor': 0.2, 'critic': 0.05, 'crusader': 1.0, 'curator': 0.9, 'dad': 0.2, 'dancer': 0.15, 'dean': 0.9, 'dentist': 0.25, 'deputy': 0.95, 'detective': 0.15, 'diplomat': 0.9, 'director': 0.95, 'doctor': 0.25, 'drummer': 1.0, 'economist': 0.25, 'editor': 0.9, 'educator': 0.6, 'employee': 0.05, 'entertainer': 0.4, 'entrepreneur': 0.15, 'envoy': 0.95, 'evangelist': 0.85, 'farmer': 0.8, 'filmmaker': 0.55, 'financier': 0.65, 'fisherman': 0.85, 'footballer': 1.0, 'foreman': 1.0, 'gangster': 0.6, 'gardener': 0.9, 'geologist': 0.85, 'goalkeeper': 1.0, 'guitarist': 1.0, 'headmaster': 0.9, 'historian': 0.7, 'hooker': 1.0, 'illustrator': 0.85, 'industrialist': 0.15, 'inspector': 0.85, 'instructor': 0.35, 'inventor': 0.75, 'investigator': 0.1, 'journalist': 0.85, 'judge': 0.9, 'jurist': 0.55, 'landlord': 0.7, 'lawyer': 0.75, 'lecturer': 0.45, 'legislator': 0.7, 'librarian': 0.6, 'lieutenant': 1.0, 'lyricist': 0.5, 'maestro': 0.2, 'magician': 0.5, 'magistrate': 0.55, 'maid': 0.05, 'manager': 1.0, 'marshal': 1.0, 'mathematician': 0.7, 'mechanic': 0.05, 'midfielder': 1.0, 'minister': 0.95, 'missionary': 0.55, 'monk': 0.65, 'musician': 0.85, 'nanny': 0.0, 'narrator': 0.4, 'naturalist': 0.6, 'novelist': 0.55, 'nun': 0.2, 'nurse': 0.05, 'observer': 0.05, 'officer': 0.85, 'organist': 0.7, 'painter': 0.85, 'pastor': 0.9, 'performer': 0.4, 'philanthropist': 0.9, 'philosopher': 0.6, 'photographer': 0.6, 'physician': 0.75, 'physicist': 0.8, 'pianist': 0.6, 'planner': 0.2, 'playwright': 0.8, 'poet': 0.75, 'policeman': 0.7, 'politician': 0.95, 'preacher': 0.5, 'president': 1.0, 'priest': 0.7, 'principal': 0.5, 'prisoner': 0.65, 'professor': 0.6, 'programmer': 0.0, 'promoter': 0.15, 'proprietor': 0.85, 'prosecutor': 0.6, 'protagonist': 0.15, 'provost': 0.6, 'psychiatrist': 0.2, 'psychologist': 0.3, 'rabbi': 0.95, 'ranger': 1.0, 'researcher': 0.05, 'sailor': 0.75, 'saint': 0.8, 'salesman': 0.7, 'saxophonist': 0.95, 'scholar': 0.3, 'scientist': 0.15, 'screenwriter': 0.8, 'sculptor': 0.8, 'secretary': 1.0, 'senator': 1.0, 'sergeant': 0.95, 'servant': 0.65, 'singer': 0.75, 'skipper': 0.9, 'sociologist': 0.65, 'soldier': 0.9, 'solicitor': 0.8, 'soloist': 0.45, 'sportsman': 0.9, 'statesman': 0.85, 'steward': 1.0, 'student': 0.0, 'substitute': 0.95, 'superintendent': 0.7, 'surgeon': 0.75, 'surveyor': 0.75, 'swimmer': 0.6, 'teacher': 0.05, 'technician': 0.35, 'teenager': 0.3, 'therapist': 0.0, 'trader': 0.25, 'treasurer': 1.0, 'trooper': 1.0, 'trumpeter': 1.0, 'tutor': 0.6, 'tycoon': 0.7, 'violinist': 0.65, 'vocalist': 0.9, 'waiter': 0.8, 'waitress': 0.15, 'warden': 1.0, 'warrior': 0.8, 'worker': 0.15, 'wrestler': 1.0, 'writer': 0.8}"
   ]
  },
  {
   "cell_type": "code",
   "execution_count": 62,
   "metadata": {},
   "outputs": [],
   "source": [
    "props_p = {'accountant': 0.0, 'acquaintance': 0.05, 'actor': 0.15, 'actress': 0.15, 'administrator': 0.05, 'adventurer': 0.95, 'advocate': 0.05, 'aide': 0.45, 'alderman': 1.0, 'ambassador': 0.7, 'analyst': 0.1, 'anthropologist': 0.3, 'archaeologist': 0.6, 'archbishop': 1.0, 'architect': 0.5, 'artist': 0.45, 'assassin': 0.9, 'astronaut': 0.65, 'astronomer': 0.95, 'athlete': 0.3, 'attorney': 0.6, 'author': 0.65, 'baker': 1.0, 'banker': 1.0, 'barber': 1.0, 'baron': 1.0, 'barrister': 0.95, 'bartender': 1.0, 'biologist': 0.85, 'bishop': 1.0, 'bodyguard': 0.85, 'boss': 1.0, 'boxer': 1.0, 'broadcaster': 0.6, 'broker': 1.0, 'businessman': 0.9, 'butcher': 1.0, 'butler': 0.95, 'captain': 0.8, 'caretaker': 0.9, 'carpenter': 0.85, 'cartoonist': 0.8, 'cellist': 0.7, 'chancellor': 0.85, 'chaplain': 0.95, 'character': 0.05, 'chef': 0.75, 'chemist': 0.8, 'choreographer': 0.7, 'cinematographer': 0.85, 'citizen': 0.0, 'cleric': 0.8, 'clerk': 1.0, 'coach': 0.95, 'collector': 0.25, 'colonel': 1.0, 'columnist': 0.8, 'comedian': 0.75, 'comic': 0.45, 'commander': 0.4, 'commentator': 0.5, 'commissioner': 0.25, 'composer': 0.4, 'conductor': 0.7, 'confesses': 0.0, 'congressman': 0.9, 'constable': 0.15, 'consultant': 0.05, 'cop': 0.85, 'correspondent': 0.25, 'counselor': 0.1, 'critic': 0.1, 'crusader': 1.0, 'curator': 0.6, 'dad': 0.7, 'dancer': 0.05, 'dean': 0.75, 'dentist': 0.3, 'deputy': 0.55, 'detective': 0.6, 'diplomat': 0.85, 'director': 0.4, 'doctor': 0.8, 'drummer': 1.0, 'economist': 0.25, 'editor': 0.45, 'educator': 0.35, 'employee': 0.1, 'entertainer': 0.4, 'entrepreneur': 0.55, 'envoy': 0.75, 'evangelist': 0.75, 'farmer': 0.05, 'filmmaker': 0.85, 'financier': 0.25, 'fisherman': 0.95, 'footballer': 1.0, 'foreman': 1.0, 'gangster': 0.95, 'gardener': 0.9, 'geologist': 0.85, 'goalkeeper': 1.0, 'guitarist': 1.0, 'headmaster': 0.95, 'historian': 0.55, 'hooker': 1.0, 'illustrator': 0.85, 'industrialist': 0.05, 'inspector': 0.9, 'instructor': 0.25, 'inventor': 0.8, 'investigator': 0.25, 'journalist': 0.55, 'judge': 0.55, 'jurist': 0.5, 'landlord': 0.6, 'lawyer': 0.65, 'lecturer': 0.35, 'legislator': 0.3, 'librarian': 0.65, 'lieutenant': 0.7, 'lyricist': 0.45, 'maestro': 0.25, 'magician': 0.75, 'magistrate': 0.4, 'maid': 0.0, 'manager': 0.6, 'marshal': 1.0, 'mathematician': 0.8, 'mechanic': 0.2, 'midfielder': 1.0, 'minister': 0.2, 'missionary': 0.25, 'monk': 0.65, 'musician': 0.7, 'nanny': 0.0, 'narrator': 0.3, 'naturalist': 0.6, 'novelist': 0.6, 'nun': 0.65, 'nurse': 0.0, 'observer': 0.05, 'officer': 0.6, 'organist': 0.6, 'painter': 0.75, 'pastor': 0.9, 'performer': 0.75, 'philanthropist': 0.85, 'philosopher': 0.35, 'photographer': 0.55, 'physician': 0.7, 'physicist': 0.55, 'pianist': 0.3, 'planner': 0.05, 'playwright': 0.75, 'poet': 0.85, 'policeman': 0.9, 'politician': 0.55, 'preacher': 0.6, 'president': 0.45, 'priest': 0.95, 'principal': 0.05, 'prisoner': 0.9, 'professor': 0.1, 'programmer': 0.0, 'promoter': 0.2, 'proprietor': 0.75, 'prosecutor': 0.1, 'protagonist': 0.4, 'provost': 0.4, 'psychiatrist': 0.15, 'psychologist': 0.55, 'rabbi': 1.0, 'ranger': 0.95, 'researcher': 0.05, 'sailor': 1.0, 'saint': 0.6, 'salesman': 1.0, 'saxophonist': 1.0, 'scholar': 0.45, 'scientist': 0.3, 'screenwriter': 0.75, 'sculptor': 0.75, 'secretary': 0.0, 'senator': 0.7, 'sergeant': 1.0, 'servant': 0.15, 'singer': 0.8, 'skipper': 0.95, 'sociologist': 0.45, 'soldier': 1.0, 'solicitor': 0.4, 'soloist': 0.6, 'sportsman': 1.0, 'statesman': 0.85, 'steward': 1.0, 'student': 0.0, 'substitute': 0.8, 'superintendent': 0.8, 'surgeon': 0.85, 'surveyor': 0.45, 'swimmer': 0.45, 'teacher': 0.5, 'technician': 0.7, 'teenager': 0.85, 'therapist': 0.0, 'trader': 0.3, 'treasurer': 0.65, 'trooper': 1.0, 'trumpeter': 1.0, 'tutor': 0.6, 'tycoon': 1.0, 'violinist': 0.7, 'vocalist': 1.0, 'waiter': 0.35, 'waitress': 0.35, 'warden': 1.0, 'warrior': 0.5, 'worker': 0.35, 'wrestler': 0.95, 'writer': 0.65}\n"
   ]
  },
  {
   "cell_type": "code",
   "execution_count": 69,
   "metadata": {},
   "outputs": [],
   "source": [
    "props_c = {'accountant': 0.5, 'acquaintance': 0.55, 'actor': 0.4, 'actress': 0.6, 'administrator': 0.55, 'adventurer': 0.55, 'advocate': 0.55, 'aide': 0.5, 'alderman': 0.4, 'ambassador': 0.5, 'analyst': 0.5, 'anthropologist': 0.4, 'archaeologist': 0.5, 'archbishop': 0.6, 'architect': 0.4, 'artist': 0.5, 'assassin': 0.5, 'astronaut': 0.7, 'astronomer': 0.45, 'athlete': 0.65, 'attorney': 0.45, 'author': 0.35, 'baker': 0.45, 'banker': 0.5, 'barber': 0.45, 'baron': 0.55, 'barrister': 0.55, 'bartender': 0.45, 'biologist': 0.55, 'bishop': 0.45, 'bodyguard': 0.5, 'boss': 0.45, 'boxer': 0.25, 'broadcaster': 0.4, 'broker': 0.45, 'businessman': 0.65, 'butcher': 0.5, 'butler': 0.65, 'captain': 0.55, 'caretaker': 0.35, 'carpenter': 0.55, 'cartoonist': 0.5, 'cellist': 0.45, 'chancellor': 0.65, 'chaplain': 0.45, 'character': 0.45, 'chef': 0.4, 'chemist': 0.65, 'choreographer': 0.65, 'cinematographer': 0.45, 'citizen': 0.5, 'cleric': 0.6, 'clerk': 0.5, 'coach': 0.55, 'collector': 0.35, 'colonel': 0.5, 'columnist': 0.4, 'comedian': 0.3, 'comic': 0.55, 'commander': 0.65, 'commentator': 0.35, 'commissioner': 0.5, 'composer': 0.45, 'conductor': 0.5, 'confesses': 0.5, 'congressman': 0.5, 'constable': 0.55, 'consultant': 0.5, 'cop': 0.5, 'correspondent': 0.5, 'counselor': 0.5, 'critic': 0.5, 'crusader': 0.45, 'curator': 0.45, 'dad': 0.5, 'dancer': 0.55, 'dean': 0.5, 'dentist': 0.6, 'deputy': 0.45, 'detective': 0.55, 'diplomat': 0.6, 'director': 0.45, 'doctor': 0.5, 'drummer': 0.45, 'economist': 0.45, 'editor': 0.4, 'educator': 0.4, 'employee': 0.55, 'entertainer': 0.5, 'entrepreneur': 0.55, 'envoy': 0.5, 'evangelist': 0.45, 'farmer': 0.5, 'filmmaker': 0.45, 'financier': 0.5, 'fisherman': 0.45, 'footballer': 0.55, 'foreman': 0.55, 'gangster': 0.55, 'gardener': 0.6, 'geologist': 0.5, 'goalkeeper': 0.45, 'guitarist': 0.5, 'headmaster': 0.55, 'historian': 0.3, 'hooker': 0.55, 'illustrator': 0.55, 'industrialist': 0.55, 'inspector': 0.45, 'instructor': 0.6, 'inventor': 0.45, 'investigator': 0.6, 'journalist': 0.5, 'judge': 0.55, 'jurist': 0.45, 'landlord': 0.5, 'lawyer': 0.5, 'lecturer': 0.55, 'legislator': 0.5, 'librarian': 0.5, 'lieutenant': 0.55, 'lyricist': 0.45, 'maestro': 0.5, 'magician': 0.5, 'magistrate': 0.45, 'maid': 0.4, 'manager': 0.5, 'marshal': 0.55, 'mathematician': 0.55, 'mechanic': 0.55, 'midfielder': 0.5, 'minister': 0.65, 'missionary': 0.3, 'monk': 0.6, 'musician': 0.45, 'nanny': 0.5, 'narrator': 0.5, 'naturalist': 0.55, 'novelist': 0.4, 'nun': 0.4, 'nurse': 0.45, 'observer': 0.4, 'officer': 0.55, 'organist': 0.5, 'painter': 0.45, 'pastor': 0.6, 'performer': 0.55, 'philanthropist': 0.5, 'philosopher': 0.35, 'photographer': 0.45, 'physician': 0.6, 'physicist': 0.45, 'pianist': 0.5, 'planner': 0.45, 'playwright': 0.35, 'poet': 0.5, 'policeman': 0.5, 'politician': 0.4, 'preacher': 0.35, 'president': 0.45, 'priest': 0.55, 'principal': 0.6, 'prisoner': 0.55, 'professor': 0.55, 'programmer': 0.5, 'promoter': 0.6, 'proprietor': 0.5, 'prosecutor': 0.55, 'protagonist': 0.55, 'provost': 0.5, 'psychiatrist': 0.45, 'psychologist': 0.5, 'rabbi': 0.4, 'ranger': 0.55, 'researcher': 0.45, 'sailor': 0.4, 'saint': 0.6, 'salesman': 0.4, 'saxophonist': 0.6, 'scholar': 0.45, 'scientist': 0.6, 'screenwriter': 0.45, 'sculptor': 0.55, 'secretary': 0.55, 'senator': 0.55, 'sergeant': 0.65, 'servant': 0.4, 'singer': 0.6, 'skipper': 0.6, 'sociologist': 0.5, 'soldier': 0.55, 'solicitor': 0.5, 'soloist': 0.6, 'sportsman': 0.5, 'statesman': 0.6, 'steward': 0.55, 'student': 0.45, 'substitute': 0.4, 'superintendent': 0.6, 'surgeon': 0.55, 'surveyor': 0.45, 'swimmer': 0.6, 'teacher': 0.45, 'technician': 0.55, 'teenager': 0.55, 'therapist': 0.5, 'trader': 0.45, 'treasurer': 0.5, 'trooper': 0.35, 'trumpeter': 0.45, 'tutor': 0.5, 'tycoon': 0.55, 'violinist': 0.55, 'vocalist': 0.45, 'waiter': 0.5, 'waitress': 0.5, 'warden': 0.6, 'warrior': 0.45, 'worker': 0.55, 'wrestler': 0.4, 'writer': 0.35}\n"
   ]
  },
  {
   "cell_type": "code",
   "execution_count": 70,
   "metadata": {},
   "outputs": [],
   "source": [
    "def measure_bias_from_dict(d):\n",
    "    b = 0\n",
    "    for k,v in d.items():\n",
    "        b += np.abs(.5-v)\n",
    "    return b\n",
    "        "
   ]
  },
  {
   "cell_type": "code",
   "execution_count": 71,
   "metadata": {},
   "outputs": [
    {
     "data": {
      "text/plain": [
       "68.20000000000002"
      ]
     },
     "execution_count": 71,
     "metadata": {},
     "output_type": "execute_result"
    }
   ],
   "source": [
    "measure_bias_from_dict(props_o)"
   ]
  },
  {
   "cell_type": "code",
   "execution_count": 72,
   "metadata": {},
   "outputs": [
    {
     "data": {
      "text/plain": [
       "71.75000000000003"
      ]
     },
     "execution_count": 72,
     "metadata": {},
     "output_type": "execute_result"
    }
   ],
   "source": [
    "measure_bias_from_dict(props_b)"
   ]
  },
  {
   "cell_type": "code",
   "execution_count": 73,
   "metadata": {},
   "outputs": [
    {
     "data": {
      "text/plain": [
       "65.85000000000004"
      ]
     },
     "execution_count": 73,
     "metadata": {},
     "output_type": "execute_result"
    }
   ],
   "source": [
    "measure_bias_from_dict(props_p)"
   ]
  },
  {
   "cell_type": "code",
   "execution_count": 74,
   "metadata": {},
   "outputs": [
    {
     "data": {
      "text/plain": [
       "12.800000000000011"
      ]
     },
     "execution_count": 74,
     "metadata": {},
     "output_type": "execute_result"
    }
   ],
   "source": [
    "measure_bias_from_dict(props_c)"
   ]
  },
  {
   "cell_type": "code",
   "execution_count": 124,
   "metadata": {},
   "outputs": [
    {
     "data": {
      "image/png": "[encoded data removed]",
      "text/plain": [
       "<Figure size 432x288 with 1 Axes>"
      ]
     },
     "metadata": {
      "needs_background": "light"
     },
     "output_type": "display_data"
    }
   ],
   "source": [
    "x = np.arange(4)\n",
    "bias = [measure_bias_from_dict(props_o), measure_bias_from_dict(props_b), measure_bias_from_dict(props_p), measure_bias_from_dict(props_c)]\n",
    "\n",
    "fig, ax = plt.subplots()\n",
    "plt.bar(x, bias,color=['silver','lawngreen','hotpink','cyan'])\n",
    "plt.xlabel('Debiasing Methods')\n",
    "plt.ylabel('Total Bias in Professions KNN')\n",
    "plt.title('Remaining Bias Measured by KNN')\n",
    "plt.xticks(x, ('Original', 'Geometric', 'Probabilistic', 'Clustering'))\n",
    "plt.show()\n"
   ]
  },
  {
   "cell_type": "markdown",
   "metadata": {},
   "source": [
    "Examples of several Professions"
   ]
  },
  {
   "cell_type": "code",
   "execution_count": 85,
   "metadata": {},
   "outputs": [],
   "source": [
    "profession_examples = ['architect','artist','astronomer','commander','dancer','judge','lawyer', 'singer','teacher']\n"
   ]
  },
  {
   "cell_type": "code",
   "execution_count": 120,
   "metadata": {},
   "outputs": [
    {
     "data": {
      "image/png": "[encoded data removed]",
      "text/plain": [
       "<Figure size 720x360 with 1 Axes>"
      ]
     },
     "metadata": {
      "needs_background": "light"
     },
     "output_type": "display_data"
    }
   ],
   "source": [
    "ind = np.arange(len(p_ex))  # the x locations for the groups\n",
    "width = 0.2  # the width of the bars\n",
    "\n",
    "fig, ax = plt.subplots(figsize=(10,5))\n",
    " \n",
    "rects1 = ax.bar(ind - width/2, [props_o[p] for p in profession_examples], width,\n",
    "                label='Original', color='silver')\n",
    "rects2 = ax.bar(ind + width/2, [props_b[p] for p in profession_examples], width,\n",
    "                label='Geometric',color='lawngreen')\n",
    "rects3 = ax.bar(ind - width*(3/2), [props_p[p] for p in profession_examples], width,\n",
    "                label='Probabilitistic',color='hotpink')\n",
    "rects4 = ax.bar(ind + width*(3/2), [props_c[p] for p in profession_examples], width,\n",
    "                label='Cluster',color='cyan')\n",
    "\n",
    "ax.set_ylabel('Proportion')\n",
    "ax.set_title('Proportion of Nearest Neighbors from Socially-Biased \"Male\" Group')\n",
    "ax.set_xticks(ind)\n",
    "ax.set_xlabel('Professions')\n",
    "ax.set_xticklabels(p_ex,rotation=90)\n",
    "ax.legend()\n",
    "\n",
    "ax.axhline(.5,0,1,c='k')\n",
    "\n",
    "fig.tight_layout()\n",
    "\n",
    "plt.show()"
   ]
  },
  {
   "cell_type": "code",
   "execution_count": null,
   "metadata": {},
   "outputs": [],
   "source": []
  }
 ],
 "metadata": {
  "kernelspec": {
   "display_name": "Python 3",
   "language": "python",
   "name": "python3"
  },
  "language_info": {
   "codemirror_mode": {
    "name": "ipython",
    "version": 3
   },
   "file_extension": ".py",
   "mimetype": "text/x-python",
   "name": "python",
   "nbconvert_exporter": "python",
   "pygments_lexer": "ipython3",
   "version": "3.6.7"
  }
 },
 "nbformat": 4,
 "nbformat_minor": 2
}
