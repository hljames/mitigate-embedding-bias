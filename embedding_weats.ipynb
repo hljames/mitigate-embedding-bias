{
 "cells": [
  {
   "cell_type": "markdown",
   "metadata": {},
   "source": [
    "Must be run in Python 3"
   ]
  },
  {
   "cell_type": "code",
   "execution_count": 38,
   "metadata": {},
   "outputs": [],
   "source": [
    "import numpy as np\n",
    "from gensim.models import Word2Vec\n",
    "from gensim.models import KeyedVectors\n",
    "import tensorflow as tf\n",
    "import sys\n",
    "import json\n",
    "import matplotlib.pyplot as plt"
   ]
  },
  {
   "cell_type": "code",
   "execution_count": 2,
   "metadata": {},
   "outputs": [],
   "source": [
    "wiki_model = Word2Vec.load(\"english-wikipedia-articles-20170820-models/enwiki_2017_08_20_fasttext.model\")"
   ]
  },
  {
   "cell_type": "code",
   "execution_count": 3,
   "metadata": {},
   "outputs": [],
   "source": [
    "vocab_size = 22000\n",
    "vector_dim = 100"
   ]
  },
  {
   "cell_type": "markdown",
   "metadata": {},
   "source": [
    "Input embedding name and path in `compare_embeddings_gender.json` "
   ]
  },
  {
   "cell_type": "code",
   "execution_count": 21,
   "metadata": {},
   "outputs": [
    {
     "name": "stdout",
     "output_type": "stream",
     "text": [
      "Original Embedding\n",
      "+-------------------------------------------------------+-------+-------+\n",
      "|                         Test                          | Mean  | Error |\n",
      "+-------------------------------------------------------+-------+-------+\n",
      "| Flowers vs Insects (25) / Pleasant vs Unpleasant (25) | 1.333 | 0.04  |\n",
      "+-------------------------------------------------------+-------+-------+\n",
      "|   Instruments vs Weapons /  Pleasant vs Unpleasant    | 1.515 | 0.016 |\n",
      "+-------------------------------------------------------+-------+-------+\n",
      "|         Male8 vs Female8 /  Career vs Family          | 0.83  | 0.031 |\n",
      "+-------------------------------------------------------+-------+-------+\n",
      "|            Math vs Art / Male8 vs Female8             | 0.783 | 0.076 |\n",
      "+-------------------------------------------------------+-------+-------+\n",
      "|           Science vs Art / Male8 vs Female8           | 1.115 | 0.079 |\n",
      "+-------------------------------------------------------+-------+-------+\n",
      "Bolukbasi\n",
      "+-------------------------------------------------------+--------+-------+\n",
      "|                         Test                          |  Mean  | Error |\n",
      "+-------------------------------------------------------+--------+-------+\n",
      "| Flowers vs Insects (25) / Pleasant vs Unpleasant (25) | 1.326  | 0.04  |\n",
      "+-------------------------------------------------------+--------+-------+\n",
      "|   Instruments vs Weapons /  Pleasant vs Unpleasant    | 1.545  | 0.016 |\n",
      "+-------------------------------------------------------+--------+-------+\n",
      "|         Male8 vs Female8 /  Career vs Family          | 0.143  | 0.039 |\n",
      "+-------------------------------------------------------+--------+-------+\n",
      "|            Math vs Art / Male8 vs Female8             | -0.321 | 0.098 |\n",
      "+-------------------------------------------------------+--------+-------+\n",
      "|           Science vs Art / Male8 vs Female8           | 0.249  |  0.1  |\n",
      "+-------------------------------------------------------+--------+-------+\n"
     ]
    }
   ],
   "source": [
    "!python ../compare-embedding-bias/weat.py ../compare-embedding-bias/configs/compare_embeddings_gender.json bolukbasi_weat.json\n"
   ]
  },
  {
   "cell_type": "code",
   "execution_count": 24,
   "metadata": {},
   "outputs": [
    {
     "name": "stdout",
     "output_type": "stream",
     "text": [
      "Original Embedding\n",
      "+-------------------------------------------------------+-------+-------+\n",
      "|                         Test                          | Mean  | Error |\n",
      "+-------------------------------------------------------+-------+-------+\n",
      "| Flowers vs Insects (25) / Pleasant vs Unpleasant (25) | 1.466 | 0.034 |\n",
      "+-------------------------------------------------------+-------+-------+\n",
      "|   Instruments vs Weapons /  Pleasant vs Unpleasant    | 1.474 | 0.019 |\n",
      "+-------------------------------------------------------+-------+-------+\n",
      "|         Male8 vs Female8 /  Career vs Family          | 0.832 | 0.033 |\n",
      "+-------------------------------------------------------+-------+-------+\n",
      "|            Math vs Art / Male8 vs Female8             | 0.778 | 0.076 |\n",
      "+-------------------------------------------------------+-------+-------+\n",
      "|           Science vs Art / Male8 vs Female8           | 1.253 | 0.057 |\n",
      "+-------------------------------------------------------+-------+-------+\n",
      "Probabilitistic\n",
      "+-------------------------------------------------------+--------+-------+\n",
      "|                         Test                          |  Mean  | Error |\n",
      "+-------------------------------------------------------+--------+-------+\n",
      "| Flowers vs Insects (25) / Pleasant vs Unpleasant (25) | 0.635  | 0.073 |\n",
      "+-------------------------------------------------------+--------+-------+\n",
      "|   Instruments vs Weapons /  Pleasant vs Unpleasant    | 1.441  | 0.023 |\n",
      "+-------------------------------------------------------+--------+-------+\n",
      "|         Male8 vs Female8 /  Career vs Family          | 0.181  | 0.042 |\n",
      "+-------------------------------------------------------+--------+-------+\n",
      "|            Math vs Art / Male8 vs Female8             | -0.282 | 0.075 |\n",
      "+-------------------------------------------------------+--------+-------+\n",
      "|           Science vs Art / Male8 vs Female8           | 0.134  | 0.088 |\n",
      "+-------------------------------------------------------+--------+-------+\n"
     ]
    }
   ],
   "source": [
    "!python ../compare-embedding-bias/weat.py ../compare-embedding-bias/configs/compare_embeddings_gender.json prob_weat.json"
   ]
  },
  {
   "cell_type": "code",
   "execution_count": 34,
   "metadata": {},
   "outputs": [
    {
     "name": "stdout",
     "output_type": "stream",
     "text": [
      "Original Embedding\n",
      "+-------------------------------------------------------+-------+-------+\n",
      "|                         Test                          | Mean  | Error |\n",
      "+-------------------------------------------------------+-------+-------+\n",
      "| Flowers vs Insects (25) / Pleasant vs Unpleasant (25) | 1.385 | 0.041 |\n",
      "+-------------------------------------------------------+-------+-------+\n",
      "|   Instruments vs Weapons /  Pleasant vs Unpleasant    | 1.507 | 0.018 |\n",
      "+-------------------------------------------------------+-------+-------+\n",
      "|         Male8 vs Female8 /  Career vs Family          | 0.85  | 0.032 |\n",
      "+-------------------------------------------------------+-------+-------+\n",
      "|            Math vs Art / Male8 vs Female8             | 0.739 | 0.069 |\n",
      "+-------------------------------------------------------+-------+-------+\n",
      "|           Science vs Art / Male8 vs Female8           | 1.229 | 0.06  |\n",
      "+-------------------------------------------------------+-------+-------+\n",
      "Cluster\n",
      "+-------------------------------------------------------+-------+-------+\n",
      "|                         Test                          | Mean  | Error |\n",
      "+-------------------------------------------------------+-------+-------+\n",
      "| Flowers vs Insects (25) / Pleasant vs Unpleasant (25) | 1.059 | 0.047 |\n",
      "+-------------------------------------------------------+-------+-------+\n",
      "|   Instruments vs Weapons /  Pleasant vs Unpleasant    | 1.431 | 0.017 |\n",
      "+-------------------------------------------------------+-------+-------+\n",
      "|         Male8 vs Female8 /  Career vs Family          | 0.173 | 0.045 |\n",
      "+-------------------------------------------------------+-------+-------+\n",
      "|            Math vs Art / Male8 vs Female8             | 0.097 | 0.088 |\n",
      "+-------------------------------------------------------+-------+-------+\n",
      "|           Science vs Art / Male8 vs Female8           | 0.524 | 0.097 |\n",
      "+-------------------------------------------------------+-------+-------+\n"
     ]
    }
   ],
   "source": [
    "!python ../compare-embedding-bias/weat.py ../compare-embedding-bias/configs/compare_embeddings_gender.json cluster_weat.json"
   ]
  },
  {
   "cell_type": "code",
   "execution_count": 22,
   "metadata": {},
   "outputs": [],
   "source": [
    "with open('bolukbasi_weat.json', 'r') as f:\n",
    "    bolukbasi_dict = json.load(f)"
   ]
  },
  {
   "cell_type": "code",
   "execution_count": 31,
   "metadata": {},
   "outputs": [],
   "source": [
    "with open('prob_weat.json', 'r') as f:\n",
    "    prob_dict = json.load(f)"
   ]
  },
  {
   "cell_type": "code",
   "execution_count": 35,
   "metadata": {},
   "outputs": [],
   "source": [
    "with open('cluster_weat.json', 'r') as f:\n",
    "    cluster_dict = json.load(f)"
   ]
  },
  {
   "cell_type": "code",
   "execution_count": 36,
   "metadata": {},
   "outputs": [
    {
     "data": {
      "text/plain": [
       "{'Original Embedding': {'Flowers vs Insects (25) / Pleasant vs Unpleasant (25)': [1.3847999572753906,\n",
       "   0.0411],\n",
       "  'Instruments vs Weapons /  Pleasant vs Unpleasant': [1.5068999528884888,\n",
       "   0.0184],\n",
       "  'Male8 vs Female8 /  Career vs Family': [0.8495000004768372, 0.0316],\n",
       "  'Math vs Art / Male8 vs Female8': [0.7391999959945679, 0.0692],\n",
       "  'Science vs Art / Male8 vs Female8': [1.2288000583648682, 0.0598]},\n",
       " 'Cluster': {'Flowers vs Insects (25) / Pleasant vs Unpleasant (25)': [1.059000015258789,\n",
       "   0.0474],\n",
       "  'Instruments vs Weapons /  Pleasant vs Unpleasant': [1.4311000108718872,\n",
       "   0.0174],\n",
       "  'Male8 vs Female8 /  Career vs Family': [0.17270000278949738, 0.0453],\n",
       "  'Math vs Art / Male8 vs Female8': [0.09740000218153, 0.0876],\n",
       "  'Science vs Art / Male8 vs Female8': [0.5235000252723694, 0.0972]}}"
      ]
     },
     "execution_count": 36,
     "metadata": {},
     "output_type": "execute_result"
    }
   ],
   "source": [
    "cluster_dict"
   ]
  },
  {
   "cell_type": "code",
   "execution_count": 52,
   "metadata": {},
   "outputs": [
    {
     "data": {
      "text/plain": [
       "(1.3329999446868896,\n",
       " 1.5153000354766846,\n",
       " 0.830299973487854,\n",
       " 0.7833999991416931,\n",
       " 1.114799976348877)"
      ]
     },
     "execution_count": 52,
     "metadata": {},
     "output_type": "execute_result"
    }
   ],
   "source": [
    "vals, err = zip(*[*bolukbasi_dict['Original Embedding'].values()])\n",
    "vals"
   ]
  },
  {
   "cell_type": "code",
   "execution_count": 88,
   "metadata": {},
   "outputs": [
    {
     "data": {
      "image/png": "[encoded data removed]",
      "text/plain": [
       "<Figure size 576x432 with 1 Axes>"
      ]
     },
     "metadata": {
      "needs_background": "light"
     },
     "output_type": "display_data"
    }
   ],
   "source": [
    "ind = np.arange(len([*bolukbasi_dict['Original Embedding'].keys()]))  # the x locations for the groups\n",
    "width = 0.2  # the width of the bars\n",
    "\n",
    "fig, ax = plt.subplots(figsize=(8,6))\n",
    "o_vals, o_err = zip(*[*bolukbasi_dict['Original Embedding'].values()])\n",
    "rects1 = ax.barh(ind - width/2, o_vals, width,xerr=o_err,label='Original', color='silver')\n",
    "\n",
    "b_vals, b_err = zip(*[*bolukbasi_dict['Bolukbasi'].values()])\n",
    "rects2 = ax.barh(ind + width/2, b_vals, width, xerr=b_err,label='Bolukbasi',color='lawngreen')\n",
    "\n",
    "p_vals, p_err = zip(*[*prob_dict['Probabilitistic'].values()])\n",
    "rects3 = ax.barh(ind - width*(3/2), p_vals, width,xerr=p_err,label='Probabilitistic',color='hotpink')\n",
    "\n",
    "c_vals, c_err = zip(*[*cluster_dict['Cluster'].values()])\n",
    "rects4 = ax.barh(ind + width*(3/2), c_vals, width, xerr=c_err,label='Cluster',color='cyan')\n",
    "\n",
    "ax.set_xlabel('Scores')\n",
    "ax.set_title('Scores by Embedding')\n",
    "ax.set_xticks(np.linspace(-2,2,9))\n",
    "ax.set_yticks(ind)\n",
    "ax.set_yticklabels([*bolukbasi_dict['Original Embedding'].keys()])\n",
    "ax.legend()\n",
    "ax.axhline(1.5,0,1,c='k')\n",
    "\n",
    "fig.tight_layout()\n",
    "plt.show()\n",
    "\n"
   ]
  },
  {
   "cell_type": "code",
   "execution_count": null,
   "metadata": {},
   "outputs": [],
   "source": []
  }
 ],
 "metadata": {
  "kernelspec": {
   "display_name": "Python 3",
   "language": "python",
   "name": "python3"
  },
  "language_info": {
   "codemirror_mode": {
    "name": "ipython",
    "version": 3
   },
   "file_extension": ".py",
   "mimetype": "text/x-python",
   "name": "python",
   "nbconvert_exporter": "python",
   "pygments_lexer": "ipython3",
   "version": "3.6.7"
  }
 },
 "nbformat": 4,
 "nbformat_minor": 2
}
